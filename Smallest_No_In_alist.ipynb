{
 "cells": [
  {
   "cell_type": "code",
   "execution_count": 24,
   "metadata": {},
   "outputs": [
    {
     "name": "stdout",
     "output_type": "stream",
     "text": [
      "2\n",
      "36\n",
      "size: 1000 \n",
      "70\n",
      "size: 2000 \n",
      "14\n",
      "size: 3000 \n",
      "6\n",
      "size: 4000 \n",
      "37\n",
      "size: 5000 \n",
      "9\n",
      "size: 6000 \n",
      "4\n",
      "size: 7000 \n",
      "1\n",
      "size: 8000 \n",
      "13\n",
      "size: 9000 \n",
      "0\n",
      "size: 10000 \n",
      "10\n",
      "size: 11000 \n"
     ]
    }
   ],
   "source": [
    "from time import time\n",
    "from random import randrange\n",
    "\n",
    "def findMin(alist):\n",
    "    overallMin = alist[0]\n",
    "    for i in alist:\n",
    "        smallest = True\n",
    "        for j in alist:\n",
    "            if i>j:\n",
    "                smallest = False\n",
    "        if smallest:\n",
    "            overallMin = i\n",
    "    return overallMin\n",
    "\n",
    "print(findMin([5,6,6,3,5,2,17]))\n",
    "for listSize in range(1000, 12000, 1000):\n",
    "    alist = [randrange(100000) for x in range(listSize)]\n",
    "    \n",
    "    print(findMin(alist))\n",
    "    \n",
    "    print(\"size: %d \" %(listSize))\n",
    "    "
   ]
  },
  {
   "cell_type": "code",
   "execution_count": null,
   "metadata": {},
   "outputs": [],
   "source": []
  }
 ],
 "metadata": {
  "kernelspec": {
   "display_name": "Python 3",
   "language": "python",
   "name": "python3"
  },
  "language_info": {
   "codemirror_mode": {
    "name": "ipython",
    "version": 3
   },
   "file_extension": ".py",
   "mimetype": "text/x-python",
   "name": "python",
   "nbconvert_exporter": "python",
   "pygments_lexer": "ipython3",
   "version": "3.6.4"
  }
 },
 "nbformat": 4,
 "nbformat_minor": 2
}
